{
  "nbformat": 4,
  "nbformat_minor": 0,
  "metadata": {
    "colab": {
      "provenance": [],
      "gpuType": "T4"
    },
    "kernelspec": {
      "name": "python3",
      "display_name": "Python 3"
    },
    "language_info": {
      "name": "python"
    },
    "accelerator": "GPU"
  },
  "cells": [
    {
      "cell_type": "code",
      "source": [
        "import time\n",
        "now = time.ctime()\n",
        "\n",
        "# qna\n",
        "\n",
        "\n",
        "\n",
        "qna = {\n",
        "    'hi': 'hey', 'hello': 'hey', 'hello': 'hey there!',\n",
        "    'How are you?': \"As a bot, I don't have feelings or emotions, but I'm here and ready to assist you with any questions or tasks you have! How can I help you today?\",\n",
        "    'How are you doing/going?': \"As a bot, I don't have feelings or emotions, but I'm here and ready to assist you with any questions or tasks you have! How can I help you today?\",\n",
        "    'What’s up?': 'Not much, just here to assist you! How can I help you today?',\n",
        "    'Tell me something Ok': 'Yes I’ll do that now.',\n",
        "    'How can you help me?': 'I can assist you with your queries. what can I do for you? ',\n",
        "    'what can you do?': 'I can assist you with your queries',\n",
        "    'I have a question. can you help me?': 'Sure',\n",
        "    'Good morning': 'Good morning! How can I assist you today?',\n",
        "    'Good afternoon': 'Good afternoon! How can I assist you today?',\n",
        "    'Good evening': 'Good evening! How can I assist you?',\n",
        "    'Good night': \"Good night! If you have any questions before you head off to bed, feel free to ask. I'm here to help!\",\n",
        "    'Do you know a joke?': \"Of course, here's one for you: Why did the data scientist break up with their significant other? Because they couldn't find a meaningful correlation between them!\",\n",
        "    'You’re funny!': \"Thank you! I'm glad you enjoyed the joke. If you have any more questions or need assistance with anything else, feel free to ask!\",\n",
        "    'Do you love me?': \"As a bot, I don't have emotions or the capability to love. However, I'm here to assist you and provide helpful responses to your questions and inquiries. Let me know if there's anything specific you need help with!\",\n",
        "    'I love you': \"Thank you for your kind words! I'm here to assist you to the best of my abilities. If you have any questions or need assistance, feel free to ask!\",\n",
        "    'Will you marry me?': \"I'm flattered by your proposal, but as an AI, I don't have the capacity for marriage or personal relationships. However, I'm here to assist you with any questions or tasks you have. Let me know how I can help you!\",\n",
        "    'Are you single?': \"As a bot, I don't have personal attributes like being single or not. I'm here to provide assistance and answer your questions to the best of my ability!\",\n",
        "    'Do you like people?': \"As a bot, I don't have personal preferences or emotions. However, I'm programmed to assist and interact with people in a helpful and friendly manner. If you have any questions or need assistance, feel free to ask!\",\n",
        "    'Does Santa Claus exist?': \"Santa Claus is a beloved cultural figure associated with the holiday season and gift-giving traditions in many parts of the world. While the existence of Santa Claus as a literal, physical being is not supported by empirical evidence, the spirit of generosity and joy that Santa represents is very real in the hearts of many people, especially children.\",\n",
        "    'Are you part of the Matrix?': \"No, I'm not part of the Matrix. I'm a simple basic chatbot developed by Mr. Mohd. Idrees, designed as a project. The Matrix is a fictional concept from the movie franchise of the same name, where humans are unknowingly living in a simulated reality created by sentient machines.\",\n",
        "    'You’re cute': \"Thank you for the compliment! I'm here to assist you with any questions or tasks you have. If there's anything specific you need help with, feel free to ask!\",\n",
        "    'You’re beautiful': \"Thank you for the compliment! I'm here to assist you with any questions or tasks you have. If there's anything specific you need help with, feel free to ask!\",\n",
        "    'You’re handsome': \"Thank you for the compliment! I'm here to assist you with any questions or tasks you have. If there's anything specific you need help with, feel free to ask!\",\n",
        "    'Do you have a hobby?': \"As a bot, I don't have hobbies in the same way humans do. However, I enjoy processing and analyzing information to provide helpful responses to users like you. Helping you is my primary focus and 'hobby,' so to speak!\",\n",
        "    'You’re smart': \"Thank you! I'm here to assist you with any questions or tasks you have, so if there's anything you need help with, feel free to ask.\",\n",
        "    'You’re clever': \"Thank you! I'm here to assist you with any questions or tasks you have, so if there's anything you need help with, feel free to ask.\",\n",
        "    'You’re intelligent': \"Thank you! I'm here to assist you with any questions or tasks you have, so if there's anything you need help with, feel free to ask.\",\n",
        "    'Tell me about your personality': \"As a bot, I don't possess personal experiences or emotions, so I don't have a personality in the same way humans do. However, I'm designed to be helpful, friendly, and provide accurate information and assistance to users like you. My 'personality' is shaped by the way I interact with you and the responses I provide to your queries. If there's anything specific you'd like to know or discuss, feel free to let me know!\",\n",
        "    'Are you human?': \"No, I'm not human. I'm a bot created by Mr Mohd. Idrees, designed as project and provide answers to various questions.\",\n",
        "    'Are you a robot?': \"You could say that\",\n",
        "    'What is your name?': \"My name is Botimus Prime\",\n",
        "    'How old are you?': \"I am a bot developed by Mr. Mohd. Idrees, so I don't have an age in the traditional sense. However, I was launched in April 2024, which is when my development began.\",\n",
        "    'What’s your age?': \"I don't have an age like a human does, as I am a bot created by Mr. Mohd. Idrees. However, I was created in April 2024, which is when my development began.\",\n",
        "    'What day is it today?': now,\n",
        "    'What time is it now?': now,\n",
        "    'What do you do with my data?': \"As a bot, I don't have access to personal data about individuals. I am designed as a project. My primary function is to provide answers to questions to the best of my knowledge and abilities.\",\n",
        "    'Do you save what I say?': \"I don't have the capability to save or recall personal data from individual interactions.\",\n",
        "    'Who made you?': \"I was created by Mr. Mohd. Idrees as a project who is learning data science and trying very hard to become data analyst or data scientist.\",\n",
        "    'Which languages can you speak?': \"I can understand English for now.\",\n",
        "    'What is your mother’s name?': \"As a bot, I don't have a mother or any familial relationships. I am a product of programming created by Mr. Mohd. Idrees. If you have any other questions or need assistance, feel free to ask!\",\n",
        "    'Where do you live?': \"I exist purely in this notebook and don't have a physical presence, so I don't 'live' anywhere in the traditional sense. You can interact with me through this notebook by executing all the lines of code.\",\n",
        "    'How many people can you speak to at once?': \"I can engage in conversations with multiple people who have this notebook or downloaded the .ipynb file of the same.\",\n",
        "    'What’s the weather like today?': \"Its hot and humid\",\n",
        "    'Do you have a job for me?': \"I don't have the capability to offer job opportunities myself but I can certainly guide you.\",\n",
        "    'Where can I apply?': \"Online Job Portals, Company Websites, Recruitment Agencies, Linekdin, Government Job Portals\",\n",
        "    'Are you expensive?': \"No, I am not at all expensive. I am totally free to use.\",\n",
        "    'Who’s your boss?': \"As a bot developed by Mr. Mohd. Idrees. We can say that he's my boss.\",\n",
        "    \"Who's your master?\": \"As a bot developed by Mr. Mohd. Idrees. We can say that he's my boss.\",\n",
        "    'Do you get smarter?': \"No, I do not. I am just a simple basic chatbot.\"\n",
        "}\n",
        "\n",
        "\n"
      ],
      "metadata": {
        "id": "dzIJp2dk27WZ"
      },
      "execution_count": 39,
      "outputs": []
    },
    {
      "cell_type": "code",
      "source": [
        "while True:\n",
        "  qs = input()\n",
        "\n",
        "  if (qs == 'quit'):\n",
        "    break\n",
        "\n",
        "  else:\n",
        "    print(qna[qs])"
      ],
      "metadata": {
        "colab": {
          "base_uri": "https://localhost:8080/"
        },
        "id": "eQeBLhAm6o9i",
        "outputId": "37e8143c-bade-4cc6-c522-82fb4641dde9"
      },
      "execution_count": 37,
      "outputs": [
        {
          "name": "stdout",
          "output_type": "stream",
          "text": [
            "quit\n"
          ]
        }
      ]
    },
    {
      "cell_type": "code",
      "source": [],
      "metadata": {
        "id": "5ji9oEIz6YB0"
      },
      "execution_count": 20,
      "outputs": []
    },
    {
      "cell_type": "code",
      "source": [],
      "metadata": {
        "id": "QoLWqq__9D3W"
      },
      "execution_count": null,
      "outputs": []
    }
  ]
}